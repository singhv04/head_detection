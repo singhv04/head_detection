{
 "cells": [
  {
   "cell_type": "code",
   "execution_count": 1,
   "metadata": {},
   "outputs": [],
   "source": [
    "import os\n",
    "import shutil\n",
    "import random\n",
    "from tqdm import tqdm"
   ]
  },
  {
   "cell_type": "code",
   "execution_count": null,
   "metadata": {},
   "outputs": [],
   "source": [
    "#os.mkdir(\"Images\")"
   ]
  },
  {
   "cell_type": "code",
   "execution_count": 2,
   "metadata": {},
   "outputs": [],
   "source": [
    "images = os.listdir(\"yolo_format/Images\")"
   ]
  },
  {
   "cell_type": "code",
   "execution_count": 3,
   "metadata": {},
   "outputs": [
    {
     "data": {
      "text/plain": [
       "1233"
      ]
     },
     "execution_count": 3,
     "metadata": {},
     "output_type": "execute_result"
    }
   ],
   "source": [
    "len(images)\n",
    "#900+200+133"
   ]
  },
  {
   "cell_type": "code",
   "execution_count": 4,
   "metadata": {},
   "outputs": [],
   "source": [
    "random.seed(0)\n",
    "sample_train = random.sample(images,900)"
   ]
  },
  {
   "cell_type": "code",
   "execution_count": 5,
   "metadata": {},
   "outputs": [
    {
     "data": {
      "text/plain": [
       "333"
      ]
     },
     "execution_count": 5,
     "metadata": {},
     "output_type": "execute_result"
    }
   ],
   "source": [
    "remaining_sample = list(set(images).difference(sample_train))\n",
    "len(remaining_sample)"
   ]
  },
  {
   "cell_type": "code",
   "execution_count": 6,
   "metadata": {},
   "outputs": [],
   "source": [
    "random.seed(0)\n",
    "sample_valid = random.sample(remaining_sample,200)"
   ]
  },
  {
   "cell_type": "code",
   "execution_count": 7,
   "metadata": {},
   "outputs": [
    {
     "data": {
      "text/plain": [
       "133"
      ]
     },
     "execution_count": 7,
     "metadata": {},
     "output_type": "execute_result"
    }
   ],
   "source": [
    "remaining_sample = list(set(remaining_sample).difference(sample_valid))\n",
    "len(remaining_sample)"
   ]
  },
  {
   "cell_type": "code",
   "execution_count": 8,
   "metadata": {},
   "outputs": [
    {
     "name": "stderr",
     "output_type": "stream",
     "text": [
      "100%|██████████| 900/900 [00:00<00:00, 1393.51it/s]\n"
     ]
    }
   ],
   "source": [
    "train_img_names = \"\"\n",
    "for i in tqdm(range(0,len(sample_train))):\n",
    "    train_img_names=train_img_names+\"Images/\"+sample_train[i]+\"\\n\"\n",
    "    shutil.copy(\"yolo_format/Images/\"+sample_train[i], \"Images/\")\n",
    "    label_name = sample_train[i].split(\".\")[0]+\".txt\"\n",
    "    shutil.copy(\"yolo_format/labels/\"+label_name, \"Images/\")\n",
    "\n",
    "file = open(\"train.txt\",\"w+\")\n",
    "file.write(train_img_names.strip())\n",
    "file.close()"
   ]
  },
  {
   "cell_type": "code",
   "execution_count": 9,
   "metadata": {},
   "outputs": [
    {
     "name": "stderr",
     "output_type": "stream",
     "text": [
      "100%|██████████| 200/200 [00:00<00:00, 1222.37it/s]\n"
     ]
    }
   ],
   "source": [
    "valid_img_names = \"\"\n",
    "for i in tqdm(range(0,len(sample_valid))):\n",
    "    valid_img_names=valid_img_names+\"Images/\"+sample_valid[i]+\"\\n\"\n",
    "    shutil.copy(\"yolo_format/Images/\"+sample_valid[i], \"Images/\")\n",
    "    label_name = sample_valid[i].split(\".\")[0]+\".txt\"\n",
    "    shutil.copy(\"yolo_format/labels/\"+label_name, \"Images/\")\n",
    "\n",
    "file = open(\"valid.txt\",\"w+\")\n",
    "file.write(valid_img_names.strip())\n",
    "file.close()"
   ]
  },
  {
   "cell_type": "code",
   "execution_count": 10,
   "metadata": {},
   "outputs": [
    {
     "name": "stderr",
     "output_type": "stream",
     "text": [
      "100%|██████████| 133/133 [00:00<00:00, 1395.49it/s]\n"
     ]
    }
   ],
   "source": [
    "remaining_img_names = \"\"\n",
    "for i in tqdm(range(0,len(remaining_sample))):\n",
    "    remaining_img_names=remaining_img_names+\"Images/\"+sample_valid[i]+\"\\n\"\n",
    "    shutil.copy(\"yolo_format/Images/\"+remaining_sample[i], \"remaining_samples/\")\n",
    "    label_name = remaining_sample[i].split(\".\")[0]+\".txt\"\n",
    "    shutil.copy(\"yolo_format/labels/\"+label_name, \"remaining_samples/\")\n",
    "\n",
    "file = open(\"remaining_samples.txt\",\"w+\")\n",
    "file.write(remaining_img_names.strip())\n",
    "file.close()"
   ]
  }
 ],
 "metadata": {
  "interpreter": {
   "hash": "916dbcbb3f70747c44a77c7bcd40155683ae19c65e1c03b4aa3499c5328201f1"
  },
  "kernelspec": {
   "display_name": "Python 3.8.10 64-bit",
   "language": "python",
   "name": "python3"
  },
  "language_info": {
   "codemirror_mode": {
    "name": "ipython",
    "version": 3
   },
   "file_extension": ".py",
   "mimetype": "text/x-python",
   "name": "python",
   "nbconvert_exporter": "python",
   "pygments_lexer": "ipython3",
   "version": "3.8.10"
  },
  "orig_nbformat": 4
 },
 "nbformat": 4,
 "nbformat_minor": 2
}
